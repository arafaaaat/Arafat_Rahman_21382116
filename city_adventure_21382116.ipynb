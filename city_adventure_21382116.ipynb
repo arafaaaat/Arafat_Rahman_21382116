{
  "nbformat": 4,
  "nbformat_minor": 0,
  "metadata": {
    "colab": {
      "provenance": []
    },
    "kernelspec": {
      "name": "python3",
      "display_name": "Python 3"
    },
    "language_info": {
      "name": "python"
    }
  },
  "cells": [
    {
      "cell_type": "code",
      "source": [
        "def schedule_volunteers(volunteers: list, shifts: list) -> dict:\n",
        "    \"\"\"\n",
        "    Assigns volunteers to available shifts based on their preferences.\n",
        "\n",
        "    >>> schedule_volunteers([\"Alice\", \"Bob\"], [\"Morning\", \"Afternoon\"])\n",
        "    {'Morning': 'Alice', 'Afternoon': 'Bob'}\n",
        "    \"\"\"\n",
        "\n",
        "    assignments = {}  # Initialize an empty dictionary for assignments\n",
        "\n",
        "    for volunteer in volunteers:\n",
        "        # Validate and get shift preference\n",
        "        while True:\n",
        "            try:\n",
        "                preference_num = int(input(f\"{volunteer}, enter your preferred shift number (1-{len(shifts)}): \"))\n",
        "                if 1 <= preference_num <= len(shifts):\n",
        "                    break\n",
        "                else:\n",
        "                    print(f\"Invalid input. Please enter a number between 1 and {len(shifts)}.\")\n",
        "            except ValueError:\n",
        "                print(\"Invalid input. Please enter a valid number.\")\n",
        "\n",
        "        # Assign the volunteer to the preferred shift\n",
        "        preference_num -= 1  # Convert to 0-based index\n",
        "        preferred_shift = shifts.pop(preference_num)\n",
        "        assignments[preferred_shift] = volunteer\n",
        "\n",
        "    return assignments\n",
        "\n",
        "if __name__ == \"__main__\":\n",
        "    volunteers = [\"Alice\", \"Bob\"]  # List of volunteers\n",
        "    shifts = [\"Morning\", \"Afternoon\"]  # List of shifts\n",
        "\n",
        "    # Call the schedule_volunteers function\n",
        "    result = schedule_volunteers(volunteers, shifts)\n",
        "\n",
        "    # Print the results\n",
        "    print(result)\n"
      ],
      "metadata": {
        "colab": {
          "base_uri": "https://localhost:8080/"
        },
        "id": "C4HkePxYZEdk",
        "outputId": "4e7bcb09-362a-425b-bec7-ec27fc66a552"
      },
      "execution_count": null,
      "outputs": [
        {
          "output_type": "stream",
          "name": "stdout",
          "text": [
            "Alice, enter your preferred shift number (1-2): 1\n",
            "Bob, enter your preferred shift number (1-1): 1\n",
            "{'Morning': 'Alice', 'Afternoon': 'Bob'}\n"
          ]
        }
      ]
    },
    {
      "cell_type": "markdown",
      "source": [
        "### **Explanation of Changes**\n",
        "\n",
        "1. **Meaningful Variable Names**:\n",
        "   - Changed variable names to be more descriptive (`volunteer` instead of `v`, `preferred_shift` instead of `shifts`).\n",
        "\n",
        "2. **Improved Data Structures**:\n",
        "   - Used a dictionary `assignments` instead of a list to store the assignments, aligning with the expected output format.\n",
        "\n",
        "3. **Error Handling**:\n",
        "   - Added error handling for invalid input using a `while` loop and `try`/`except` block to ensure the user enters a valid number.\n",
        "   - Ensured that the preference number is within the valid range before proceeding.\n",
        "\n",
        "4. **Function Documentation**:\n",
        "   - Improved the docstring to match the new functionality.\n",
        "\n",
        "5. **Fixes and Enhancements**:\n",
        "   - Corrected the typo in the variable name (`vols` to `volunteers`).\n",
        "   - Enhanced the user prompt messages for clarity.\n",
        "\n",
        "This refactored code ensures better readability, maintainability, and user experience while maintaining the core functionality of the original script."
      ],
      "metadata": {
        "id": "32hBJuTlZYv6"
      }
    }
  ]
}