{
  "nbformat": 4,
  "nbformat_minor": 0,
  "metadata": {
    "colab": {
      "provenance": []
    },
    "kernelspec": {
      "name": "python3",
      "display_name": "Python 3"
    },
    "language_info": {
      "name": "python"
    }
  },
  "cells": [
    {
      "cell_type": "markdown",
      "source": [
        "# **Monthly Budget Application Design and Implementation**"
      ],
      "metadata": {
        "id": "LsJCYCgnTL7o"
      }
    },
    {
      "cell_type": "markdown",
      "source": [
        "### **Problem Definition**\n",
        "Create an application that allows users to input their monthly income and various expense categories, calculate the total expenses, display the remaining balance, and allow for scenario planning with different inputs.\n"
      ],
      "metadata": {
        "id": "Byj1kL9JTdhj"
      }
    },
    {
      "cell_type": "markdown",
      "source": [
        "### **System Design**\n",
        "**User Interface Design**\n",
        "*  A simple console-based interface prompting for income and expenses\n",
        "*   Display of total expenses and remaining balance\n",
        "\n",
        "**Input Requirements**\n",
        "*   Monthly income (numeric)\n",
        "*   Expense categories (alphabet) and amounts (numeric)\n",
        "\n",
        "**Processing Requirements**\n",
        "*   Calculate total expenses\n",
        "*   Calculate remaining balance\n",
        "\n",
        "**Output Requirements**\n",
        "*   Display total expenses\n",
        "*   Display remaining balance\n",
        "\n",
        "\n",
        "\n",
        "\n",
        "\n",
        "\n",
        "\n",
        "\n"
      ],
      "metadata": {
        "id": "IHr1jOzgUh4s"
      }
    },
    {
      "cell_type": "code",
      "execution_count": null,
      "metadata": {
        "colab": {
          "base_uri": "https://localhost:8080/"
        },
        "id": "9JhujqUgSNI3",
        "outputId": "258bb416-0a80-47b0-cdfa-3db1b44cc660"
      },
      "outputs": [
        {
          "output_type": "stream",
          "name": "stdout",
          "text": [
            "Monthly Budget Planner\n",
            "Enter your monthly income: 4000\n",
            "Enter an expense category (or 'done' to finish): rent\n",
            "Enter the amount for rent: 1200\n",
            "Enter an expense category (or 'done' to finish): groceries\n",
            "Enter the amount for groceries: 400\n",
            "Enter an expense category (or 'done' to finish): utilities \n",
            "Enter the amount for utilities: 150\n",
            "Enter an expense category (or 'done' to finish): entertainment \n",
            "Enter the amount for entertainment: 200\n",
            "Enter an expense category (or 'done' to finish): transportation \n",
            "Enter the amount for transportation: 100\n",
            "Enter an expense category (or 'done' to finish): done\n",
            "\n",
            "Budget Summary:\n",
            "Monthly Income: $4000.00\n",
            "Expenses:\n",
            "  rent: $1200.00\n",
            "  groceries: $400.00\n",
            "  utilities: $150.00\n",
            "  entertainment: $200.00\n",
            "  transportation: $100.00\n",
            "Total Expenses: $2050.00\n",
            "Remaining Balance: $1950.00\n",
            "\n",
            "Would you like to plan a different budget scenario? (yes/no): no\n",
            "Thank you for using the Monthly Budget Planner!\n"
          ]
        }
      ],
      "source": [
        "import re\n",
        "\n",
        "def get_numeric_input(prompt):\n",
        "    while True:\n",
        "        value = input(prompt)\n",
        "        if re.match(r'^\\d+(\\.\\d+)?$', value):\n",
        "            return float(value)\n",
        "        else:\n",
        "            print(\"Invalid input. Please enter a numeric value.\")\n",
        "\n",
        "def get_expense_input():\n",
        "    expenses = {}\n",
        "    while True:\n",
        "        category = input(\"Enter an expense category (or 'done' to finish): \").strip()\n",
        "        if category.lower() == 'done':\n",
        "            break\n",
        "        amount = get_numeric_input(f\"Enter the amount for {category}: \")\n",
        "        expenses[category] = amount\n",
        "    return expenses\n",
        "\n",
        "def calculate_total_expenses(expenses):\n",
        "    return sum(expenses.values())\n",
        "\n",
        "def display_budget(income, expenses):\n",
        "    total_expenses = calculate_total_expenses(expenses)\n",
        "    remaining_balance = income - total_expenses\n",
        "    print(\"\\nBudget Summary:\")\n",
        "    print(f\"Monthly Income: ${income:.2f}\")\n",
        "    print(\"Expenses:\")\n",
        "    for category, amount in expenses.items():\n",
        "        print(f\"  {category}: ${amount:.2f}\")\n",
        "    print(f\"Total Expenses: ${total_expenses:.2f}\")\n",
        "    print(f\"Remaining Balance: ${remaining_balance:.2f}\\n\")\n",
        "\n",
        "def main():\n",
        "    while True:\n",
        "        print(\"Monthly Budget Planner\")\n",
        "        income = get_numeric_input(\"Enter your monthly income: \")\n",
        "        expenses = get_expense_input()\n",
        "        display_budget(income, expenses)\n",
        "\n",
        "        repeat = input(\"Would you like to plan a different budget scenario? (yes/no): \").strip().lower()\n",
        "        if repeat != 'yes':\n",
        "            print(\"Thank you for using the Monthly Budget Planner!\")\n",
        "            break\n",
        "\n",
        "if __name__ == \"__main__\":\n",
        "    main()\n"
      ]
    }
  ]
}